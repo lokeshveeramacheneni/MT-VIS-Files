{
 "cells": [
  {
   "cell_type": "code",
   "execution_count": 1,
   "id": "1b946825",
   "metadata": {},
   "outputs": [
    {
     "name": "stdout",
     "output_type": "stream",
     "text": [
      "Jupyter environment detected. Enabling Open3D WebVisualizer.\n",
      "[Open3D INFO] WebRTC GUI backend enabled.\n",
      "[Open3D INFO] WebRTCWindowSystem: HTTP handshake server disabled.\n"
     ]
    }
   ],
   "source": [
    "import numpy as np\n",
    "import pandas as pd\n",
    "import open3d as o3d\n",
    "import matplotlib.pyplot as plt\n",
    "from tqdm import tqdm"
   ]
  },
  {
   "cell_type": "code",
   "execution_count": 2,
   "id": "f9d59c6c",
   "metadata": {},
   "outputs": [],
   "source": [
    "def read_and_preprocess(filepath, factor=1):\n",
    "    pc = pd.read_csv(filepath, sep=' ',header=None,  dtype=np.float32).to_numpy()\n",
    "    #pcd = o3d.io.read_point_cloud(filepath)\n",
    "    #pc_xyz = np.asarray(pcd.points)\n",
    "    #pc_rgb = np.asarray(pcd.colors)\n",
    "    #print('ashfvas',len(pc_xyz))\n",
    "    pc_xyz = pc[:, 0:3]\n",
    "    pc_rgb = pc[:, 3:6]\n",
    "    #randints = np.random.randint(0, high = pc_xyz.shape[0], size = int(factor*pc_xyz.shape[0]))\n",
    "    randints = np.random.choice(range(0, 700000), size = 700000, replace=False)\n",
    "    print('jfghjkdfbg', len(pc_xyz))\n",
    "    pc_xyz = pc_xyz[randints, :]\n",
    "    pc_rgb = pc_rgb[randints, :]\n",
    "    return pc_xyz, pc_rgb, randints\n",
    "\n",
    "def read_probs(filepath, randints):\n",
    "    probs, labels = np.load(filepath)\n",
    "    print('ashvas',len(labels))\n",
    "    probs_downsampled = probs[randints]\n",
    "    labels_downsampled = labels[randints]\n",
    "    return probs_downsampled, labels_downsampled\n",
    "    return probs, labels"
   ]
  },
  {
   "cell_type": "code",
   "execution_count": 3,
   "id": "b554027d",
   "metadata": {},
   "outputs": [],
   "source": [
    "def labels_to_colors(pc_labels):\n",
    "    cmap = {0: [0, 0, 0],\n",
    "            1: [0, 0, 1],\n",
    "            2: [0, 1, 0],\n",
    "            3: [1, 0, 0],\n",
    "            4: [0, 1, 1],\n",
    "            5: [1, 0, 1],\n",
    "            6: [1, 1, 0],\n",
    "            7: [0, 0.5, 0.5],\n",
    "            8: [0.5, 0, 0.5]}\n",
    "    print(pc_labels.shape)\n",
    "    pc_clrs = np.asarray([cmap[x] for x in pc_labels])\n",
    "    return pc_clrs\n",
    "\n",
    "def convert_prob_colors(pc_probs):\n",
    "    cmap = plt.get_cmap('viridis')\n",
    "    pc_clrs = cmap(pc_probs)\n",
    "    return pc_clrs"
   ]
  },
  {
   "cell_type": "code",
   "execution_count": 15,
   "id": "d77fa710",
   "metadata": {},
   "outputs": [
    {
     "name": "stdout",
     "output_type": "stream",
     "text": [
      "jfghjkdfbg 721359\n",
      "ashvas 719348\n",
      "(array([1., 2., 5., 6.]), array([ 20249, 120760, 437271, 121720]))\n",
      "(700000,)\n",
      "Probability values\n",
      "(700000,)\n",
      "0.0 1.0\n",
      "jfghjkdfbg 721359\n",
      "ashvas 719348\n",
      "(array([1., 2., 4., 5., 6.]), array([ 16761, 114888,   6132, 202013, 360206]))\n",
      "(700000,)\n",
      "Probability values\n",
      "(700000,)\n",
      "0.0 1.0\n",
      "jfghjkdfbg 721359\n",
      "ashvas 719348\n",
      "(array([1., 2., 5., 6.]), array([ 20249, 120760, 437271, 121720]))\n",
      "(700000,)\n",
      "Probability values\n",
      "(700000,)\n",
      "0.0 1.0\n",
      "jfghjkdfbg 721359\n",
      "ashvas 719348\n",
      "(array([1., 2., 4., 5., 6.]), array([ 16761, 114888,   6132, 202013, 360206]))\n",
      "(700000,)\n",
      "Probability values\n",
      "(700000,)\n",
      "0.0 1.0\n"
     ]
    }
   ],
   "source": [
    "rgb_val = False\n",
    "prob_val = True\n",
    "# fn='conferenceRoom_1'\n",
    "# fn='office_42'\n",
    "# fn='office_3'\n",
    "fn='pantry_1'\n",
    "path = '/home/lokesh/Master_Thesis/Dataset_Study/S3DIS/dataset/Stanford3dDataset_v1.2_Aligned_Version/Area_5/'+fn+'/'+fn+'.txt'\n",
    "fname = 'Area_5_'+fn+'_probs.npy'\n",
    "x = ['./s3dis/10/', './max_probs_flipout/s3dis/10/', './entropy_val/entropies/s3dis/10/', './entropies_flipout/s3dis/10/']\n",
    "# max_prob_path = './s3dis/10/'+fname\n",
    "# max_prob_path = './max_probs_flipout/s3dis/10/'+fname\n",
    "# max_prob_path = './entropy_val/entropies/s3dis/10/'+fname\n",
    "# max_prob_path = './entropies_flipout/s3dis/10/'+fname\n",
    "for x_ in x:\n",
    "    max_prob_path = x_+fname\n",
    "    pc_xyz, pc_rgb, dindices = read_and_preprocess(path, factor=1)\n",
    "    pc_probs, pc_labels_detect = read_probs(max_prob_path, dindices)\n",
    "    pc_labels_detect += 1\n",
    "    print(np.unique(pc_labels_detect, return_counts=True))\n",
    "    print(pc_labels_detect.shape)\n",
    "    if rgb_val:\n",
    "        print('RGB values')\n",
    "        pc_clrs = pc_rgb\n",
    "    elif prob_val:\n",
    "        print('Probability values')\n",
    "        pc_clrs = convert_prob_colors(pc_probs)[:, :3]\n",
    "        pc_clrs_detect = labels_to_colors(pc_labels_detect)\n",
    "    min_val, max_val = np.min(pc_clrs), np.max(pc_clrs)\n",
    "    pc_clrs = (pc_clrs-min_val)/(max_val-min_val)\n",
    "    print(np.min(pc_clrs), np.max(pc_clrs))\n",
    "    pcd = o3d.geometry.PointCloud()\n",
    "    pcd.points = o3d.utility.Vector3dVector(pc_xyz)\n",
    "    pcd.colors = o3d.utility.Vector3dVector(pc_clrs)\n",
    "    o3d.visualization.draw_geometries([pcd])"
   ]
  },
  {
   "cell_type": "code",
   "execution_count": 12,
   "id": "25b1c514",
   "metadata": {},
   "outputs": [
    {
     "name": "stdout",
     "output_type": "stream",
     "text": [
      "0.0 1.0\n"
     ]
    }
   ],
   "source": [
    "#pc_clrs = pc_clrs_detect\n"
   ]
  },
  {
   "cell_type": "code",
   "execution_count": null,
   "id": "dc539c1b",
   "metadata": {},
   "outputs": [],
   "source": []
  }
 ],
 "metadata": {
  "kernelspec": {
   "display_name": "Python 3",
   "language": "python",
   "name": "python3"
  },
  "language_info": {
   "codemirror_mode": {
    "name": "ipython",
    "version": 3
   },
   "file_extension": ".py",
   "mimetype": "text/x-python",
   "name": "python",
   "nbconvert_exporter": "python",
   "pygments_lexer": "ipython3",
   "version": "3.7.10"
  }
 },
 "nbformat": 4,
 "nbformat_minor": 5
}
