{
 "cells": [
  {
   "cell_type": "code",
   "execution_count": 1,
   "id": "a9682931",
   "metadata": {},
   "outputs": [
    {
     "name": "stdout",
     "output_type": "stream",
     "text": [
      "Jupyter environment detected. Enabling Open3D WebVisualizer.\n",
      "[Open3D INFO] WebRTC GUI backend enabled.\n",
      "[Open3D INFO] WebRTCWindowSystem: HTTP handshake server disabled.\n"
     ]
    }
   ],
   "source": [
    "import open3d as o3d\n",
    "import pandas as pd\n",
    "import numpy as np\n",
    "import random\n",
    "import io\n",
    "import matplotlib.pyplot as plt\n",
    "import sys"
   ]
  },
  {
   "cell_type": "code",
   "execution_count": 2,
   "id": "aaa80c2f",
   "metadata": {},
   "outputs": [],
   "source": [
    "def read_and_preprocess(filepath, labelspath, factor=0.3):\n",
    "    pc = pd.read_csv(filepath, sep=' ',header=None,  dtype=np.float32).to_numpy()\n",
    "    print(pc.shape)\n",
    "    pc_labels_unfil = pd.read_csv(labelspath).to_numpy()\n",
    "    non_zero_indices = np.where(pc_labels_unfil != 0)\n",
    "    pc_xyz_u = pc\n",
    "    pc_xyz_u = pc_xyz_u[non_zero_indices[0], :]\n",
    "    pc_labels = pc_labels_unfil[non_zero_indices]\n",
    "    pc_xyz = pc_xyz_u[:, 0:3]\n",
    "    pc_rgb = pc_xyz_u[:, 4:]\n",
    "    randints = np.random.randint(0, high = pc_xyz.shape[0], size = int(factor*pc_xyz.shape[0]))\n",
    "    pc_xyz = pc_xyz[randints, :]\n",
    "    pc_rgb = pc_rgb[randints, :]\n",
    "    #randints = 0\n",
    "    pc_labels = pc_labels[randints]\n",
    "    #print(pc_labels)\n",
    "    return pc_xyz, pc_labels, pc_rgb, randints, non_zero_indices\n",
    "\n",
    "def read_probs(filepath, randints, nonzero_indices):\n",
    "    probs, labels = np.load(filepath)\n",
    "    probs = probs[nonzero_indices[0]]\n",
    "    labels = labels[nonzero_indices[0]]\n",
    "    probs_downsampled = probs[randints]\n",
    "    labels_downsampled = labels[randints]\n",
    "    return probs_downsampled, labels_downsampled\n",
    "    return probs, labels"
   ]
  },
  {
   "cell_type": "code",
   "execution_count": 3,
   "id": "9441fbbf",
   "metadata": {},
   "outputs": [],
   "source": [
    "def labels_to_colors(pc_labels):\n",
    "    cmap = {0: [0, 0, 0],\n",
    "            1: [0, 0, 1],\n",
    "            2: [0, 1, 0],\n",
    "            3: [1, 0, 0],\n",
    "            4: [0, 1, 1],\n",
    "            5: [1, 0, 1],\n",
    "            6: [1, 1, 0],\n",
    "            7: [0, 0.5, 0.5],\n",
    "            8: [0.5, 0, 0.5]}\n",
    "    print(pc_labels.shape)\n",
    "    pc_clrs = np.asarray([cmap[x] for x in pc_labels])\n",
    "    return pc_clrs\n",
    "\n",
    "def convert_prob_colors(pc_probs):\n",
    "    cmap = plt.get_cmap('viridis')\n",
    "    pc_clrs = cmap(pc_probs)\n",
    "    return pc_clrs"
   ]
  },
  {
   "cell_type": "code",
   "execution_count": 14,
   "id": "f3f10294",
   "metadata": {},
   "outputs": [
    {
     "name": "stdout",
     "output_type": "stream",
     "text": [
      "(29697591, 7)\n",
      "(2842888,)\n",
      "Probability values\n",
      "(2842888,)\n"
     ]
    }
   ],
   "source": [
    "rgb_val = False\n",
    "prob_val = True\n",
    "path = './bildstein_station1_xyz_intensity_rgb.txt'\n",
    "label_path = './bildstein_station1_xyz_intensity_rgb.labels'\n",
    "#max_prob_path = './entropy_val/entropies/sem3d/10/bildstein_station1_xyz_intensity_rgb_probs.npy'\n",
    "max_prob_path = './entropies_flipout/sem3d/10/bildstein_station1_xyz_intensity_rgb_probs.npy'\n",
    "#max_prob_path = './sem3d/10/bildstein_station1_xyz_intensity_rgb_probs.npy'\n",
    "#max_prob_path = './max_probs_flipout/sem3d/10/bildstein_station1_xyz_intensity_rgb_probs.npy'\n",
    "pc_xyz, pc_labels, pc_rgb, downsampled_indices, nonzero_indices = read_and_preprocess(path, label_path, factor=0.3)\n",
    "pc_probs, pc_labels_detect = read_probs(max_prob_path, downsampled_indices, nonzero_indices)\n",
    "pc_labels_detect += 1\n",
    "print(pc_labels_detect.shape)\n",
    "if rgb_val:\n",
    "    print('RGB values')\n",
    "    pc_clrs = pc_rgb\n",
    "elif prob_val:\n",
    "    print('Probability values')\n",
    "    pc_clrs_probs = convert_prob_colors(pc_probs)[:, :3]\n",
    "    pc_clrs_detect = labels_to_colors(pc_labels_detect)\n",
    "else:\n",
    "    print('Labels values')\n",
    "    print(pc_labels.shape)\n",
    "    print(pc_xyz.shape)\n",
    "    pc_clrs = labels_to_colors(pc_labels)"
   ]
  },
  {
   "cell_type": "code",
   "execution_count": 15,
   "id": "f24bcc37",
   "metadata": {},
   "outputs": [],
   "source": [
    "#distances = np.linalg.norm(pc_xyz, axis=1)\n",
    "#print(len(distances))\n",
    "#print(np.min(distances), np.max(distances))\n",
    "#indices_less_45 = np.where(distances<86)[0]\n",
    "#pc_xyz = pc_xyz[indices_less_45, :]\n",
    "#pc_clrs = pc_clrs[indices_less_45]\n",
    "#print(len(pc_xyz), len(pc_clrs), pc_probs.shape, distances.shape)\n",
    "#dist = distances[indices_less_45]\n",
    "#probs_dist = pc_probs[indices_less_45]\n",
    "#plt.figure()\n",
    "##plt.scatter(dist, probs_dist)\n",
    "#plt.show()"
   ]
  },
  {
   "cell_type": "code",
   "execution_count": 17,
   "id": "1a254a53",
   "metadata": {},
   "outputs": [
    {
     "name": "stdout",
     "output_type": "stream",
     "text": [
      "0.0 1.0\n"
     ]
    }
   ],
   "source": [
    "# Draw the point cloud\n",
    "#pc_clrs = pc_clrs_detect\n",
    "pc_clrs = pc_clrs_probs\n",
    "min_val, max_val = np.min(pc_clrs), np.max(pc_clrs)\n",
    "pc_clrs = (pc_clrs-min_val)/(max_val-min_val)\n",
    "print(np.min(pc_clrs), np.max(pc_clrs))\n",
    "pcd = o3d.geometry.PointCloud()\n",
    "pcd.points = o3d.utility.Vector3dVector(pc_xyz)\n",
    "pcd.colors = o3d.utility.Vector3dVector(pc_clrs)\n",
    "o3d.visualization.draw_geometries([pcd])"
   ]
  },
  {
   "cell_type": "code",
   "execution_count": 57,
   "id": "246e0783",
   "metadata": {},
   "outputs": [],
   "source": [
    "gradient = np.linspace(0, 1, 256)\n",
    "gradient = np.vstack((gradient, gradient))"
   ]
  },
  {
   "cell_type": "code",
   "execution_count": 59,
   "id": "303d72e6",
   "metadata": {},
   "outputs": [
    {
     "data": {
      "image/png": "[encoded data removed]",
      "text/plain": [
       "<Figure size 1296x36 with 1 Axes>"
      ]
     },
     "metadata": {
      "needs_background": "light"
     },
     "output_type": "display_data"
    }
   ],
   "source": [
    "plt.figure(figsize=(18, 0.5))\n",
    "plt.imshow(gradient, aspect='auto', cmap=plt.get_cmap('viridis'))\n",
    "plt.text(-1, 3,'0', fontsize=22)\n",
    "plt.text(252, 3,'1', fontsize=22)\n",
    "plt.axis('off')\n",
    "plt.savefig('prob_legend.pdf', dpi=600, bbox_inches='tight')\n",
    "plt.show()"
   ]
  },
  {
   "cell_type": "code",
   "execution_count": null,
   "id": "f5a8598b",
   "metadata": {},
   "outputs": [],
   "source": []
  }
 ],
 "metadata": {
  "kernelspec": {
   "display_name": "Python 3",
   "language": "python",
   "name": "python3"
  },
  "language_info": {
   "codemirror_mode": {
    "name": "ipython",
    "version": 3
   },
   "file_extension": ".py",
   "mimetype": "text/x-python",
   "name": "python",
   "nbconvert_exporter": "python",
   "pygments_lexer": "ipython3",
   "version": "3.7.10"
  }
 },
 "nbformat": 4,
 "nbformat_minor": 5
}
