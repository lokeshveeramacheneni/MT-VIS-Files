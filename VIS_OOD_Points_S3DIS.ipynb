{
 "cells": [
  {
   "cell_type": "code",
   "execution_count": 1,
   "id": "6ff35489",
   "metadata": {},
   "outputs": [
    {
     "name": "stdout",
     "output_type": "stream",
     "text": [
      "Jupyter environment detected. Enabling Open3D WebVisualizer.\n",
      "[Open3D INFO] WebRTC GUI backend enabled.\n",
      "[Open3D INFO] WebRTCWindowSystem: HTTP handshake server disabled.\n"
     ]
    }
   ],
   "source": [
    "import numpy as np\n",
    "import pandas as pd\n",
    "import open3d as o3d\n",
    "import matplotlib.pyplot as plt\n",
    "from tqdm import tqdm"
   ]
  },
  {
   "cell_type": "code",
   "execution_count": 2,
   "id": "96d89bad",
   "metadata": {},
   "outputs": [],
   "source": [
    "def read_and_preprocess(filepath, factor=1):\n",
    "    pc = pd.read_csv(filepath, sep=' ',header=None,  dtype=np.float32).to_numpy()\n",
    "    pc_xyz = pc[:, 0:3]\n",
    "    pc_rgb = pc[:, 3:6]\n",
    "    randints = np.random.choice(range(0, 700000), size = 700000, replace=False)\n",
    "    print('Points length: ', len(pc_xyz))\n",
    "    pc_xyz = pc_xyz[randints, :]\n",
    "    pc_rgb = pc_rgb[randints, :]\n",
    "    return pc_xyz, pc_rgb, randints\n",
    "\n",
    "def read_probs(filepath, randints):\n",
    "    probs, labels = np.load(filepath)\n",
    "    print('Label length: ',len(labels))\n",
    "    probs_downsampled = probs[randints]\n",
    "    labels_downsampled = labels[randints]\n",
    "    return probs_downsampled, labels_downsampled\n",
    "    return probs, labels"
   ]
  },
  {
   "cell_type": "code",
   "execution_count": 3,
   "id": "5dcd06f1",
   "metadata": {},
   "outputs": [],
   "source": [
    "def labels_to_colors(pc_labels):\n",
    "    cmap = {0: [0, 0, 0],\n",
    "            1: [0, 0, 1],\n",
    "            2: [0, 1, 0],\n",
    "            3: [1, 0, 0],\n",
    "            4: [0, 1, 1],\n",
    "            5: [1, 0, 1],\n",
    "            6: [1, 1, 0],\n",
    "            7: [0, 0.5, 0.5],\n",
    "            8: [0.5, 0, 0.5]}\n",
    "    print(pc_labels.shape)\n",
    "    pc_clrs = np.asarray([cmap[x] for x in pc_labels])\n",
    "    return pc_clrs\n",
    "\n",
    "def convert_prob_colors(pc_probs, thold):\n",
    "    pc_clrs = []\n",
    "    for prob in pc_probs:\n",
    "        if prob >= thold:\n",
    "            pc_clrs.append([0, 1, 0])\n",
    "        else:\n",
    "            pc_clrs.append([1, 0, 0])\n",
    "    return np.asarray(pc_clrs)\n",
    "\n",
    "def convert_ent_colors(pc_ent, thold):\n",
    "    pc_clrs = []\n",
    "    for ent in pc_ent:\n",
    "        if ent <= thold:\n",
    "            pc_clrs.append([0, 1, 0])\n",
    "        else:\n",
    "            pc_clrs.append([1, 0, 0])\n",
    "    return np.asarray(pc_clrs)"
   ]
  },
  {
   "cell_type": "code",
   "execution_count": 16,
   "id": "5996ca25",
   "metadata": {},
   "outputs": [
    {
     "name": "stdout",
     "output_type": "stream",
     "text": [
      "Points length:  1047554\n",
      "Label length:  719348\n"
     ]
    }
   ],
   "source": [
    "fn='conferenceRoom_1'\n",
    "#path = '/home/lokesh/Master_Thesis/Dataset_Study/S3DIS/dataset/Stanford3dDataset_v1.2_Aligned_Version/Area_5/office_42/office_42.txt'\n",
    "path = '/home/lokesh/Master_Thesis/Dataset_Study/S3DIS/dataset/Stanford3dDataset_v1.2_Aligned_Version/Area_5/'+fn+'/'+fn+'.txt'\n",
    "fname = 'Area_5_'+fn+'_probs.npy'\n",
    "#/home/lokesh/Master_Thesis/Dataset_Study/Semantic3d/entropy_val/entropies/s3dis\n",
    "#max_prob_path = './max_probs_flipout/s3dis/10/Area_5_conferenceRoom_1_probs.npy'\n",
    "max_prob_path = './s3dis/10/'+fname\n",
    "#max_prob_path = './entropy_val/entropies/s3dis/20/Area_5_office_42_probs.npy'\n",
    "#max_prob_path = './entropies_flipout/s3dis/10/Area_5_office_42_probs.npy'\n",
    "pc_xyz, pc_rgb, dindices = read_and_preprocess(path, factor=1)\n",
    "pc_probs, pc_labels_detect = read_probs(max_prob_path, dindices)\n",
    "pc_clrs = convert_prob_colors(pc_probs, 0.755004)\n",
    "pcd = o3d.geometry.PointCloud()\n",
    "pcd.points = o3d.utility.Vector3dVector(pc_xyz)\n",
    "pcd.colors = o3d.utility.Vector3dVector(pc_clrs)\n",
    "o3d.visualization.draw_geometries([pcd])"
   ]
  },
  {
   "cell_type": "code",
   "execution_count": 17,
   "id": "0752f0da",
   "metadata": {},
   "outputs": [
    {
     "name": "stdout",
     "output_type": "stream",
     "text": [
      "Label length:  719348\n"
     ]
    }
   ],
   "source": [
    "#/home/lokesh/Master_Thesis/Dataset_Study/Semantic3d/entropy_val/entropies/s3dis\n",
    "max_prob_path = './max_probs_flipout/s3dis/10/'+fname\n",
    "#max_prob_path = './entropy_val/entropies/s3dis/20/Area_5_office_42_probs.npy'\n",
    "#max_prob_path = './entropies_flipout/s3dis/10/Area_5_office_42_probs.npy'\n",
    "pc_probs, pc_labels_detect = read_probs(max_prob_path, dindices)\n",
    "pc_clrs = convert_prob_colors(pc_probs, 0.716796)\n",
    "pcd = o3d.geometry.PointCloud()\n",
    "pcd.points = o3d.utility.Vector3dVector(pc_xyz)\n",
    "pcd.colors = o3d.utility.Vector3dVector(pc_clrs)\n",
    "o3d.visualization.draw_geometries([pcd])"
   ]
  },
  {
   "cell_type": "markdown",
   "id": "f0f65a8a",
   "metadata": {},
   "source": [
    "## Entropy"
   ]
  },
  {
   "cell_type": "code",
   "execution_count": 18,
   "id": "0d125727",
   "metadata": {},
   "outputs": [
    {
     "name": "stdout",
     "output_type": "stream",
     "text": [
      "Label length:  719348\n"
     ]
    }
   ],
   "source": [
    "max_prob_path = './entropy_val/entropies/s3dis/10/'+fname\n",
    "#max_prob_path = './entropies_flipout/s3dis/10/Area_5_office_42_probs.npy'\n",
    "pc_probs, pc_labels_detect = read_probs(max_prob_path, dindices)\n",
    "pc_clrs = convert_ent_colors(pc_probs,  0.386315)\n",
    "pcd = o3d.geometry.PointCloud()\n",
    "pcd.points = o3d.utility.Vector3dVector(pc_xyz)\n",
    "pcd.colors = o3d.utility.Vector3dVector(pc_clrs)\n",
    "o3d.visualization.draw_geometries([pcd])"
   ]
  },
  {
   "cell_type": "code",
   "execution_count": 19,
   "id": "668a8079",
   "metadata": {},
   "outputs": [
    {
     "name": "stdout",
     "output_type": "stream",
     "text": [
      "Label length:  719348\n"
     ]
    }
   ],
   "source": [
    "max_prob_path = './entropies_flipout/s3dis/10/'+fname\n",
    "pc_probs, pc_labels_detect = read_probs(max_prob_path, dindices)\n",
    "pc_clrs = convert_ent_colors(pc_probs,  0.438823)\n",
    "pcd = o3d.geometry.PointCloud()\n",
    "pcd.points = o3d.utility.Vector3dVector(pc_xyz)\n",
    "pcd.colors = o3d.utility.Vector3dVector(pc_clrs)\n",
    "o3d.visualization.draw_geometries([pcd])"
   ]
  },
  {
   "cell_type": "code",
   "execution_count": null,
   "id": "e05db267",
   "metadata": {},
   "outputs": [],
   "source": []
  }
 ],
 "metadata": {
  "kernelspec": {
   "display_name": "Python 3",
   "language": "python",
   "name": "python3"
  },
  "language_info": {
   "codemirror_mode": {
    "name": "ipython",
    "version": 3
   },
   "file_extension": ".py",
   "mimetype": "text/x-python",
   "name": "python",
   "nbconvert_exporter": "python",
   "pygments_lexer": "ipython3",
   "version": "3.7.10"
  }
 },
 "nbformat": 4,
 "nbformat_minor": 5
}
