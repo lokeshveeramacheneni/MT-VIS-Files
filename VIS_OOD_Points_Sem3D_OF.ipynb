{
 "cells": [
  {
   "cell_type": "code",
   "execution_count": 1,
   "id": "b16621e9",
   "metadata": {},
   "outputs": [
    {
     "name": "stdout",
     "output_type": "stream",
     "text": [
      "Jupyter environment detected. Enabling Open3D WebVisualizer.\n",
      "[Open3D INFO] WebRTC GUI backend enabled.\n",
      "[Open3D INFO] WebRTCWindowSystem: HTTP handshake server disabled.\n"
     ]
    }
   ],
   "source": [
    "import open3d as o3d\n",
    "import pandas as pd\n",
    "import numpy as np\n",
    "import random\n",
    "import io\n",
    "import matplotlib.pyplot as plt\n",
    "import sys"
   ]
  },
  {
   "cell_type": "code",
   "execution_count": 2,
   "id": "1bbc49e5",
   "metadata": {},
   "outputs": [],
   "source": [
    "def read_and_preprocess(filepath, labelspath, factor=0.3):\n",
    "    pc = pd.read_csv(filepath, sep=' ',header=None,  dtype=np.float32).to_numpy()\n",
    "    print(pc.shape)\n",
    "    pc_labels_unfil = pd.read_csv(labelspath).to_numpy()\n",
    "    non_zero_indices = np.where(pc_labels_unfil != 0)\n",
    "    pc_xyz_u = pc\n",
    "    pc_xyz_u = pc_xyz_u[non_zero_indices[0], :]\n",
    "    pc_labels = pc_labels_unfil[non_zero_indices]\n",
    "    pc_xyz = pc_xyz_u[:, 0:3]\n",
    "    pc_rgb = pc_xyz_u[:, 4:]\n",
    "    randints = np.random.randint(0, high = pc_xyz.shape[0], size = int(factor*pc_xyz.shape[0]))\n",
    "    pc_xyz = pc_xyz[randints, :]\n",
    "    pc_rgb = pc_rgb[randints, :]\n",
    "    #randints = 0\n",
    "    pc_labels = pc_labels[randints]\n",
    "    #print(pc_labels)\n",
    "    return pc_xyz, pc_labels, pc_rgb, randints, non_zero_indices\n",
    "\n",
    "def read_probs(filepath, randints, nonzero_indices):\n",
    "    probs, labels = np.load(filepath)\n",
    "    probs = probs[nonzero_indices[0]]\n",
    "    labels = labels[nonzero_indices[0]]\n",
    "    probs_downsampled = probs[randints]\n",
    "    labels_downsampled = labels[randints]\n",
    "    return probs_downsampled, labels_downsampled\n",
    "    return probs, labels"
   ]
  },
  {
   "cell_type": "code",
   "execution_count": 3,
   "id": "069f484e",
   "metadata": {},
   "outputs": [],
   "source": [
    "def labels_to_colors(pc_labels):\n",
    "    cmap = {0: [0, 0, 0],\n",
    "            1: [0, 0, 1],\n",
    "            2: [0, 1, 0],\n",
    "            3: [1, 0, 0],\n",
    "            4: [0, 1, 1],\n",
    "            5: [1, 0, 1],\n",
    "            6: [1, 1, 0],\n",
    "            7: [0, 0.5, 0.5],\n",
    "            8: [0.5, 0, 0.5]}\n",
    "    print(pc_labels.shape)\n",
    "    pc_clrs = np.asarray([cmap[x] for x in pc_labels])\n",
    "    return pc_clrs\n",
    "\n",
    "def convert_prob_colors(pc_probs, thold):\n",
    "    pc_clrs = []\n",
    "    for prob in pc_probs:\n",
    "        if prob >= thold:\n",
    "            pc_clrs.append([0, 1, 0])\n",
    "        else:\n",
    "            pc_clrs.append([1, 0, 0])\n",
    "    return np.asarray(pc_clrs)\n",
    "\n",
    "def convert_ent_colors(pc_ent, thold):\n",
    "    pc_clrs = []\n",
    "    for ent in pc_ent:\n",
    "        if ent <= thold:\n",
    "            pc_clrs.append([0, 1, 0])\n",
    "        else:\n",
    "            pc_clrs.append([1, 0, 0])\n",
    "    return np.asarray(pc_clrs)"
   ]
  },
  {
   "cell_type": "markdown",
   "id": "270d310c",
   "metadata": {},
   "source": [
    "# Semantic3D arguments\n",
    "## MSP OOD Plots\n",
    "1. Ensembles/Flipout passes: 10\n",
    "2. Ensembles: 0.790161\n",
    "3. Flipout: 0.796142"
   ]
  },
  {
   "cell_type": "markdown",
   "id": "d4d8f60d",
   "metadata": {},
   "source": [
    "## Semantic3D"
   ]
  },
  {
   "cell_type": "code",
   "execution_count": null,
   "id": "8f28b294",
   "metadata": {},
   "outputs": [],
   "source": [
    "path = './bildstein_station1_xyz_intensity_rgb.txt'\n",
    "label_path = './bildstein_station1_xyz_intensity_rgb.labels'\n",
    "max_prob_path = './sem3d/10/bildstein_station1_xyz_intensity_rgb_probs.npy'\n",
    "pc_xyz, pc_labels, pc_rgb, downsampled_indices, nonzero_indices = read_and_preprocess(path, label_path, factor=0.3)\n",
    "pc_probs, pc_labels_detect = read_probs(max_prob_path, downsampled_indices, nonzero_indices)\n",
    "pc_clrs = convert_prob_colors(pc_probs, 0.790161)\n",
    "pcd = o3d.geometry.PointCloud()\n",
    "pcd.points = o3d.utility.Vector3dVector(pc_xyz)\n",
    "pcd.colors = o3d.utility.Vector3dVector(pc_clrs)\n",
    "o3d.visualization.draw_geometries([pcd])"
   ]
  },
  {
   "cell_type": "code",
   "execution_count": null,
   "id": "768b19ea",
   "metadata": {},
   "outputs": [],
   "source": [
    "max_prob_path = './max_probs_flipout/sem3d/10/bildstein_station1_xyz_intensity_rgb_probs.npy'\n",
    "pc_probs, pc_labels_detect = read_probs(max_prob_path, downsampled_indices, nonzero_indices)\n",
    "pc_clrs = convert_ent_colors(pc_probs, 0.796142)\n",
    "pcd = o3d.geometry.PointCloud()\n",
    "pcd.points = o3d.utility.Vector3dVector(pc_xyz)\n",
    "pcd.colors = o3d.utility.Vector3dVector(pc_clrs)\n",
    "o3d.visualization.draw_geometries([pcd])"
   ]
  },
  {
   "cell_type": "markdown",
   "id": "409e2775",
   "metadata": {},
   "source": [
    "## Semantic3D ohne Farbe"
   ]
  },
  {
   "cell_type": "code",
   "execution_count": null,
   "id": "8d2de703",
   "metadata": {},
   "outputs": [],
   "source": [
    "max_prob_path = './sem3d_of/10/bildstein_station1_xyz_intensity_rgb_probs.npy'\n",
    "pc_probs, pc_labels_detect = read_probs(max_prob_path, downsampled_indices, nonzero_indices)\n",
    "pc_clrs = convert_ent_colors(pc_probs, 0.790161)\n",
    "pcd = o3d.geometry.PointCloud()\n",
    "pcd.points = o3d.utility.Vector3dVector(pc_xyz)\n",
    "pcd.colors = o3d.utility.Vector3dVector(pc_clrs)\n",
    "o3d.visualization.draw_geometries([pcd])"
   ]
  },
  {
   "cell_type": "code",
   "execution_count": 4,
   "id": "57faffec",
   "metadata": {
    "collapsed": true
   },
   "outputs": [
    {
     "ename": "NameError",
     "evalue": "name 'downsampled_indices' is not defined",
     "output_type": "error",
     "traceback": [
      "\u001b[0;31m---------------------------------------------------------------------------\u001b[0m",
      "\u001b[0;31mNameError\u001b[0m                                 Traceback (most recent call last)",
      "\u001b[0;32m<ipython-input-4-d569e5b0690f>\u001b[0m in \u001b[0;36m<module>\u001b[0;34m\u001b[0m\n\u001b[1;32m      1\u001b[0m \u001b[0mmax_prob_path\u001b[0m \u001b[0;34m=\u001b[0m \u001b[0;34m'./max_probs_flipout/sem3d_of/10/bildstein_station1_xyz_intensity_rgb_probs.npy'\u001b[0m\u001b[0;34m\u001b[0m\u001b[0;34m\u001b[0m\u001b[0m\n\u001b[0;32m----> 2\u001b[0;31m \u001b[0mpc_probs\u001b[0m\u001b[0;34m,\u001b[0m \u001b[0mpc_labels_detect\u001b[0m \u001b[0;34m=\u001b[0m \u001b[0mread_probs\u001b[0m\u001b[0;34m(\u001b[0m\u001b[0mmax_prob_path\u001b[0m\u001b[0;34m,\u001b[0m \u001b[0mdownsampled_indices\u001b[0m\u001b[0;34m,\u001b[0m \u001b[0mnonzero_indices\u001b[0m\u001b[0;34m)\u001b[0m\u001b[0;34m\u001b[0m\u001b[0;34m\u001b[0m\u001b[0m\n\u001b[0m\u001b[1;32m      3\u001b[0m \u001b[0mpc_clrs\u001b[0m \u001b[0;34m=\u001b[0m \u001b[0mconvert_ent_colors\u001b[0m\u001b[0;34m(\u001b[0m\u001b[0mpc_probs\u001b[0m\u001b[0;34m,\u001b[0m \u001b[0;36m0.796142\u001b[0m\u001b[0;34m)\u001b[0m\u001b[0;34m\u001b[0m\u001b[0;34m\u001b[0m\u001b[0m\n\u001b[1;32m      4\u001b[0m \u001b[0mpcd\u001b[0m \u001b[0;34m=\u001b[0m \u001b[0mo3d\u001b[0m\u001b[0;34m.\u001b[0m\u001b[0mgeometry\u001b[0m\u001b[0;34m.\u001b[0m\u001b[0mPointCloud\u001b[0m\u001b[0;34m(\u001b[0m\u001b[0;34m)\u001b[0m\u001b[0;34m\u001b[0m\u001b[0;34m\u001b[0m\u001b[0m\n\u001b[1;32m      5\u001b[0m \u001b[0mpcd\u001b[0m\u001b[0;34m.\u001b[0m\u001b[0mpoints\u001b[0m \u001b[0;34m=\u001b[0m \u001b[0mo3d\u001b[0m\u001b[0;34m.\u001b[0m\u001b[0mutility\u001b[0m\u001b[0;34m.\u001b[0m\u001b[0mVector3dVector\u001b[0m\u001b[0;34m(\u001b[0m\u001b[0mpc_xyz\u001b[0m\u001b[0;34m)\u001b[0m\u001b[0;34m\u001b[0m\u001b[0;34m\u001b[0m\u001b[0m\n",
      "\u001b[0;31mNameError\u001b[0m: name 'downsampled_indices' is not defined"
     ]
    }
   ],
   "source": [
    "max_prob_path = './max_probs_flipout/sem3d_of/10/bildstein_station1_xyz_intensity_rgb_probs.npy'\n",
    "pc_probs, pc_labels_detect = read_probs(max_prob_path, downsampled_indices, nonzero_indices)\n",
    "pc_clrs = convert_ent_colors(pc_probs, 0.796142)\n",
    "pcd = o3d.geometry.PointCloud()\n",
    "pcd.points = o3d.utility.Vector3dVector(pc_xyz)\n",
    "pcd.colors = o3d.utility.Vector3dVector(pc_clrs)\n",
    "o3d.visualization.draw_geometries([pcd])"
   ]
  },
  {
   "cell_type": "markdown",
   "id": "3d760d07",
   "metadata": {},
   "source": [
    "## Entropy OOD Plots\n",
    "1. Ensembles: 0.322842\n",
    "2. Flipout: 0.130736"
   ]
  },
  {
   "cell_type": "markdown",
   "id": "ea0c6052",
   "metadata": {},
   "source": [
    "## Semantic3D"
   ]
  },
  {
   "cell_type": "code",
   "execution_count": null,
   "id": "f256ba2a",
   "metadata": {},
   "outputs": [],
   "source": [
    "max_prob_path = './entropy_val/entropies/sem3d/10/bildstein_station1_xyz_intensity_rgb_probs.npy'\n",
    "#max_prob_path = './entropies_flipout/sem3d/20/bildstein_station1_xyz_intensity_rgb_probs.npy'\n",
    "pc_probs, pc_labels_detect = read_probs(max_prob_path, downsampled_indices, nonzero_indices)\n",
    "pc_clrs = convert_ent_colors(pc_probs, 0.322842)\n",
    "pcd = o3d.geometry.PointCloud()\n",
    "pcd.points = o3d.utility.Vector3dVector(pc_xyz)\n",
    "pcd.colors = o3d.utility.Vector3dVector(pc_clrs)\n",
    "o3d.visualization.draw_geometries([pcd])"
   ]
  },
  {
   "cell_type": "code",
   "execution_count": null,
   "id": "001719ea",
   "metadata": {},
   "outputs": [],
   "source": [
    "max_prob_path = './entropies_flipout/sem3d/10/bildstein_station1_xyz_intensity_rgb_probs.npy'\n",
    "pc_probs, pc_labels_detect = read_probs(max_prob_path, downsampled_indices, nonzero_indices)\n",
    "pc_clrs = convert_ent_colors(pc_probs, 0.130736)\n",
    "pcd = o3d.geometry.PointCloud()\n",
    "pcd.points = o3d.utility.Vector3dVector(pc_xyz)\n",
    "pcd.colors = o3d.utility.Vector3dVector(pc_clrs)\n",
    "o3d.visualization.draw_geometries([pcd])"
   ]
  },
  {
   "cell_type": "markdown",
   "id": "2add2bdd",
   "metadata": {},
   "source": [
    "## Semantic3D ohne Farbe"
   ]
  },
  {
   "cell_type": "code",
   "execution_count": null,
   "id": "49d95563",
   "metadata": {},
   "outputs": [],
   "source": [
    "max_prob_path = './entropy_val/sem3d_of/10/bildstein_station1_xyz_intensity_rgb_probs.npy'\n",
    "pc_probs, pc_labels_detect = read_probs(max_prob_path, downsampled_indices, nonzero_indices)\n",
    "pc_clrs = convert_ent_colors(pc_probs, 0.322842)\n",
    "pcd = o3d.geometry.PointCloud()\n",
    "pcd.points = o3d.utility.Vector3dVector(pc_xyz)\n",
    "pcd.colors = o3d.utility.Vector3dVector(pc_clrs)\n",
    "o3d.visualization.draw_geometries([pcd])"
   ]
  },
  {
   "cell_type": "code",
   "execution_count": null,
   "id": "66eb54d6",
   "metadata": {},
   "outputs": [],
   "source": [
    "max_prob_path = './entropies_flipout/sem3d_of/10/bildstein_station1_xyz_intensity_rgb_probs.npy'\n",
    "pc_probs, pc_labels_detect = read_probs(max_prob_path, downsampled_indices, nonzero_indices)\n",
    "pc_clrs = convert_ent_colors(pc_probs, 0.130736)\n",
    "pcd = o3d.geometry.PointCloud()\n",
    "pcd.points = o3d.utility.Vector3dVector(pc_xyz)\n",
    "pcd.colors = o3d.utility.Vector3dVector(pc_clrs)\n",
    "o3d.visualization.draw_geometries([pcd])"
   ]
  }
 ],
 "metadata": {
  "kernelspec": {
   "display_name": "Python 3",
   "language": "python",
   "name": "python3"
  },
  "language_info": {
   "codemirror_mode": {
    "name": "ipython",
    "version": 3
   },
   "file_extension": ".py",
   "mimetype": "text/x-python",
   "name": "python",
   "nbconvert_exporter": "python",
   "pygments_lexer": "ipython3",
   "version": "3.7.10"
  }
 },
 "nbformat": 4,
 "nbformat_minor": 5
}
