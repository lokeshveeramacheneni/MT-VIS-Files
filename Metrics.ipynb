{
 "cells": [
  {
   "cell_type": "code",
   "execution_count": 1,
   "id": "f89b90ee",
   "metadata": {},
   "outputs": [],
   "source": [
    "import glob\n",
    "import os\n",
    "import numpy as np\n",
    "import pandas as pd\n",
    "from tqdm import tqdm\n",
    "import pickle\n",
    "import matplotlib.pyplot as plt"
   ]
  },
  {
   "cell_type": "code",
   "execution_count": null,
   "id": "f63b38ad",
   "metadata": {},
   "outputs": [],
   "source": [
    "file_names = ['bildstein_station1_xyz_intensity_rgb.npy', 'sg27_station2_intensity_rgb.npy']\n",
    "entropies_k = {}\n",
    "entropies_val = {}\n",
    "for k in tqdm(range(1, 21)):\n",
    "    file_entropies = []\n",
    "    val_entropies = []\n",
    "    for idx, file in enumerate(file_names):\n",
    "        read_file_name = os.path.join(os.path.join('./entropies/',str(k)), file)\n",
    "        y = np.load(read_file_name)\n",
    "        entropies = y[0]\n",
    "        classes_pred = y[1]\n",
    "        val_entropies.append(entropies[:50])\n",
    "        mean_entropy = np.mean(entropies)\n",
    "        file_entropies.append(mean_entropy)\n",
    "    entropies_val[k] = val_entropies\n",
    "    entropies_k[k] = np.mean(file_entropies)"
   ]
  },
  {
   "cell_type": "code",
   "execution_count": null,
   "id": "8798238e",
   "metadata": {},
   "outputs": [],
   "source": [
    "print(entropies_k)"
   ]
  },
  {
   "cell_type": "code",
   "execution_count": null,
   "id": "18ae2517",
   "metadata": {},
   "outputs": [],
   "source": [
    "plt.figure(figsize=(8, 8))\n",
    "key, value = [], []\n",
    "for key_, value_ in entropies_k.items():\n",
    "    if key_%2 == 0 or key_ == 1:\n",
    "        key.append(key_)\n",
    "        value.append(value_)\n",
    "plt.plot(key, value)\n",
    "plt.scatter(key, value, c='b')\n",
    "plt.xticks(key)\n",
    "plt.grid()\n",
    "plt.show()"
   ]
  },
  {
   "cell_type": "code",
   "execution_count": null,
   "id": "f864e3f1",
   "metadata": {},
   "outputs": [],
   "source": [
    "for key, value in entropies_val.items():\n",
    "    flat_list = [item for sublist in value for item in sublist]\n",
    "    print(len(flat_list))"
   ]
  },
  {
   "cell_type": "code",
   "execution_count": null,
   "id": "ed823bfa",
   "metadata": {},
   "outputs": [],
   "source": [
    "label_pd = pd.read_csv('./sem8_labels_training/bildstein_station1_xyz_intensity_rgb.labels', header=None, delim_whitespace=True, dtype=np.uint8)"
   ]
  },
  {
   "cell_type": "code",
   "execution_count": null,
   "id": "bb7c6e7b",
   "metadata": {},
   "outputs": [],
   "source": [
    "labels = label_pd.values"
   ]
  },
  {
   "cell_type": "code",
   "execution_count": null,
   "id": "13c1839f",
   "metadata": {},
   "outputs": [],
   "source": [
    "unique, counts = np.unique(labels, return_counts=True)\n",
    "y = dict(zip(unique, counts))"
   ]
  },
  {
   "cell_type": "code",
   "execution_count": null,
   "id": "48bff322",
   "metadata": {},
   "outputs": [],
   "source": [
    "print(y)"
   ]
  },
  {
   "cell_type": "code",
   "execution_count": null,
   "id": "71a3bc7f",
   "metadata": {},
   "outputs": [],
   "source": [
    "label_pd = pd.read_csv('./sem8_labels_training/sg27_station2_intensity_rgb.labels', header=None, delim_whitespace=True, dtype=np.uint8)"
   ]
  },
  {
   "cell_type": "code",
   "execution_count": null,
   "id": "2157dec7",
   "metadata": {},
   "outputs": [],
   "source": [
    "labels = label_pd.values"
   ]
  },
  {
   "cell_type": "code",
   "execution_count": null,
   "id": "c3e2d87b",
   "metadata": {},
   "outputs": [],
   "source": [
    "unique, counts = np.unique(labels, return_counts=True)\n",
    "y = dict(zip(unique, counts))"
   ]
  },
  {
   "cell_type": "code",
   "execution_count": null,
   "id": "cdb151ff",
   "metadata": {},
   "outputs": [],
   "source": [
    "print(y)"
   ]
  },
  {
   "cell_type": "code",
   "execution_count": null,
   "id": "7e3cbac9",
   "metadata": {},
   "outputs": [],
   "source": [
    "files = sorted(os.listdir('./corrupt_probs/'))\n",
    "print(files)"
   ]
  },
  {
   "cell_type": "code",
   "execution_count": null,
   "id": "40096c9e",
   "metadata": {},
   "outputs": [],
   "source": [
    "for file in files:\n",
    "    probs = np.load('./corrupt_probs/'+file)\n",
    "    print(probs.shape)"
   ]
  },
  {
   "cell_type": "code",
   "execution_count": null,
   "id": "f3aa5830",
   "metadata": {},
   "outputs": [],
   "source": [
    "file_1 = pd.read_csv('./bildstein_station1_xyz_intensity_rgb.labels')\n",
    "file_2 = pd.read_csv('./sg27_station2_intensity_rgb.labels')\n",
    "file_3 = pd.read_csv('./bildstein_station1_xyz_intensity_rgb_orig.labels')"
   ]
  },
  {
   "cell_type": "code",
   "execution_count": null,
   "id": "dd55dee5",
   "metadata": {},
   "outputs": [],
   "source": [
    "print(file_1.shape)\n",
    "print(file_2.shape)\n",
    "print(file_3.shape)"
   ]
  },
  {
   "cell_type": "code",
   "execution_count": null,
   "id": "eb58b21f",
   "metadata": {},
   "outputs": [],
   "source": [
    "import pickle\n",
    "import open3d as o3d"
   ]
  },
  {
   "cell_type": "code",
   "execution_count": null,
   "id": "27a7af22",
   "metadata": {},
   "outputs": [],
   "source": [
    "pcd = o3d.io.read_point_cloud('./bildstein_station1_xyz_intensity_rgb.ply')\n",
    "print(np.asarray(pcd.points).shape)"
   ]
  },
  {
   "cell_type": "code",
   "execution_count": null,
   "id": "4521802b",
   "metadata": {},
   "outputs": [],
   "source": [
    "with open('./bildstein_station1_xyz_intensity_rgb_KDTree.pkl', 'rb') as f:\n",
    "    search_tree = pickle.load(f)"
   ]
  },
  {
   "cell_type": "code",
   "execution_count": null,
   "id": "47a99e21",
   "metadata": {},
   "outputs": [],
   "source": [
    "print(np.asarray(search_tree.data).shape)"
   ]
  },
  {
   "cell_type": "code",
   "execution_count": null,
   "id": "25c033f9",
   "metadata": {},
   "outputs": [],
   "source": [
    "with open('./bildstein_station1_xyz_intensity_rgb_proj.pkl', 'rb') as f:\n",
    "    proj = pickle.load(f)"
   ]
  },
  {
   "cell_type": "code",
   "execution_count": null,
   "id": "925c3db0",
   "metadata": {},
   "outputs": [],
   "source": [
    "print(proj[1])"
   ]
  },
  {
   "cell_type": "code",
   "execution_count": null,
   "id": "d57b5335",
   "metadata": {},
   "outputs": [],
   "source": [
    "with open('./snap-39501.meta', 'rb') as f:\n",
    "    y = f.read()"
   ]
  },
  {
   "cell_type": "code",
   "execution_count": null,
   "id": "bece90f9",
   "metadata": {},
   "outputs": [],
   "source": [
    "print(type(y))"
   ]
  },
  {
   "cell_type": "code",
   "execution_count": null,
   "id": "a93e87bc",
   "metadata": {},
   "outputs": [],
   "source": [
    "print(y[0])"
   ]
  },
  {
   "cell_type": "code",
   "execution_count": null,
   "id": "60aab747",
   "metadata": {},
   "outputs": [],
   "source": [
    "with open('./1/weights.pkl', 'rb') as f:\n",
    "    data = pickle.load(f)"
   ]
  },
  {
   "cell_type": "code",
   "execution_count": null,
   "id": "bd3149f7",
   "metadata": {},
   "outputs": [],
   "source": [
    "for k, v in data.items():\n",
    "    print(k, v.shape)"
   ]
  },
  {
   "cell_type": "code",
   "execution_count": 2,
   "id": "933ad594",
   "metadata": {},
   "outputs": [],
   "source": [
    "y = np.load('./bildstein_station1_xyz_intensity_rgb_probs.npy')"
   ]
  },
  {
   "cell_type": "code",
   "execution_count": 3,
   "id": "0d68cdcf",
   "metadata": {},
   "outputs": [
    {
     "name": "stdout",
     "output_type": "stream",
     "text": [
      "(29697591, 8)\n",
      "[-2.197  -2.006  -1.234  -0.921   0.7354  1.935  -1.593  -2.225 ]\n",
      "False\n"
     ]
    }
   ],
   "source": [
    "print(y.shape)\n",
    "print(y[0])\n",
    "probs = y[:10000, :]\n",
    "print(np.isnan(probs).any())"
   ]
  },
  {
   "cell_type": "code",
   "execution_count": 4,
   "id": "315204dc",
   "metadata": {},
   "outputs": [],
   "source": [
    "import torch"
   ]
  },
  {
   "cell_type": "code",
   "execution_count": 5,
   "id": "7c93bb6c",
   "metadata": {},
   "outputs": [],
   "source": [
    "m = torch.nn.Softmax(dim=1)\n",
    "h = torch.from_numpy(probs)\n",
    "h = h.type(torch.DoubleTensor)"
   ]
  },
  {
   "cell_type": "code",
   "execution_count": 6,
   "id": "76a8a218",
   "metadata": {},
   "outputs": [
    {
     "name": "stdout",
     "output_type": "stream",
     "text": [
      "torch.Size([10000, 8])\n",
      "tensor([-2.1973, -2.0059, -1.2344, -0.9209,  0.7354,  1.9346, -1.5928, -2.2246],\n",
      "       dtype=torch.float64)\n"
     ]
    }
   ],
   "source": [
    "print(h.shape)\n",
    "print(h[0])"
   ]
  },
  {
   "cell_type": "code",
   "execution_count": 7,
   "id": "6f05b2bd",
   "metadata": {},
   "outputs": [],
   "source": [
    "j = m(h)"
   ]
  },
  {
   "cell_type": "code",
   "execution_count": 15,
   "id": "a001e628",
   "metadata": {},
   "outputs": [
    {
     "name": "stdout",
     "output_type": "stream",
     "text": [
      "tensor([0.0199, 0.0211, 0.0250, 0.0353, 0.2037, 0.6507, 0.0306, 0.0136],\n",
      "       dtype=torch.float64) tensor(1., dtype=torch.float64)\n"
     ]
    }
   ],
   "source": [
    "print(j[1000], sum(j[100]))"
   ]
  },
  {
   "cell_type": "code",
   "execution_count": 16,
   "id": "9ee710e6",
   "metadata": {},
   "outputs": [],
   "source": [
    "np_ = j.numpy()"
   ]
  },
  {
   "cell_type": "code",
   "execution_count": 17,
   "id": "5c4f2f3f",
   "metadata": {},
   "outputs": [
    {
     "name": "stdout",
     "output_type": "stream",
     "text": [
      "[[0.01083587 0.01312172 0.02838194 ... 0.67499027 0.01983314 0.0105436 ]\n",
      " [0.01620169 0.01701242 0.01920244 ... 0.68422019 0.02885445 0.01206361]\n",
      " [0.01535167 0.01591652 0.01807104 ... 0.68409688 0.02683799 0.01067541]\n",
      " ...\n",
      " [0.01983521 0.02146793 0.02802681 ... 0.64983358 0.02920025 0.01435669]\n",
      " [0.01983521 0.02146793 0.02802681 ... 0.64983358 0.02920025 0.01435669]\n",
      " [0.01983521 0.02146793 0.02802681 ... 0.64983358 0.02920025 0.01435669]]\n"
     ]
    }
   ],
   "source": [
    "print(np_)"
   ]
  },
  {
   "cell_type": "code",
   "execution_count": null,
   "id": "cad9cb63",
   "metadata": {},
   "outputs": [],
   "source": []
  }
 ],
 "metadata": {
  "kernelspec": {
   "display_name": "Python 3",
   "language": "python",
   "name": "python3"
  },
  "language_info": {
   "codemirror_mode": {
    "name": "ipython",
    "version": 3
   },
   "file_extension": ".py",
   "mimetype": "text/x-python",
   "name": "python",
   "nbconvert_exporter": "python",
   "pygments_lexer": "ipython3",
   "version": "3.7.10"
  }
 },
 "nbformat": 4,
 "nbformat_minor": 5
}
