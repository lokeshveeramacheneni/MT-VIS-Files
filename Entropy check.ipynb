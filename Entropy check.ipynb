{
 "cells": [
  {
   "cell_type": "code",
   "execution_count": 7,
   "id": "0af0b835",
   "metadata": {},
   "outputs": [],
   "source": [
    "#bildstein_station1_xyz_intensity_rgb_probs\n",
    "import numpy as np\n",
    "np.set_printoptions(precision=10, suppress=True)"
   ]
  },
  {
   "cell_type": "code",
   "execution_count": 8,
   "id": "4ab8ea68",
   "metadata": {},
   "outputs": [],
   "source": [
    "load = np.load('bildstein_station1_xyz_intensity_rgb_probs.npy')"
   ]
  },
  {
   "cell_type": "code",
   "execution_count": 9,
   "id": "dfa63077",
   "metadata": {},
   "outputs": [
    {
     "name": "stdout",
     "output_type": "stream",
     "text": [
      "(29697591, 8)\n"
     ]
    }
   ],
   "source": [
    "print(load.shape)"
   ]
  },
  {
   "cell_type": "code",
   "execution_count": 19,
   "id": "e1935da9",
   "metadata": {},
   "outputs": [
    {
     "name": "stdout",
     "output_type": "stream",
     "text": [
      "2526\n"
     ]
    }
   ],
   "source": [
    "#print(load[:100, :])\n",
    "print(len(np.unique(np.amax(load, axis=1))))"
   ]
  },
  {
   "cell_type": "code",
   "execution_count": 30,
   "id": "ad995c89",
   "metadata": {},
   "outputs": [],
   "source": [
    "def point_entropy(probabilities):\n",
    "    pnt_entropy = []\n",
    "    for pnt_prob in probabilities:\n",
    "        print(pnt_prob)\n",
    "        print('###')\n",
    "        print(np.log(pnt_prob))\n",
    "        print()\n",
    "        pnt_prob[pnt_prob == 0] = 1e-7\n",
    "        entropy = -1*sum(pnt_prob*np.log(pnt_prob))\n",
    "        pnt_entropy.append(entropy)\n",
    "    return np.asarray(pnt_entropy)"
   ]
  },
  {
   "cell_type": "code",
   "execution_count": 31,
   "id": "915a7c44",
   "metadata": {},
   "outputs": [
    {
     "name": "stdout",
     "output_type": "stream",
     "text": [
      "[0.0000576  0.0001564  0.0003178  0.001113   0.1932     0.8047\n",
      " 0.0004632  0.00002354]\n",
      "###\n",
      "[ -9.766   -8.766   -8.055   -6.8     -1.644   -0.2173  -7.676  -10.66  ]\n",
      "\n",
      "[0.0002906  0.0006285  0.00018    0.00021    0.7075     0.2898\n",
      " 0.001057   0.00000983]\n",
      "###\n",
      "[ -8.14   -7.37   -8.625  -8.47   -0.346  -1.238  -6.85  -11.53 ]\n",
      "\n",
      "[0.000707   0.002066   0.0003543  0.0004573  0.8276     0.1666\n",
      " 0.001949   0.00001734]\n",
      "###\n",
      "[ -7.254   -6.184   -7.945   -7.69    -0.1892  -1.792   -6.242  -10.96  ]\n",
      "\n",
      "[0.000707   0.002066   0.0003543  0.0004573  0.8276     0.1666\n",
      " 0.001949   0.00001734]\n",
      "###\n",
      "[ -7.254   -6.184   -7.945   -7.69    -0.1892  -1.792   -6.242  -10.96  ]\n",
      "\n",
      "[0.000707   0.002066   0.0003543  0.0004573  0.8276     0.1666\n",
      " 0.001949   0.00001734]\n",
      "###\n",
      "[ -7.254   -6.184   -7.945   -7.69    -0.1892  -1.792   -6.242  -10.96  ]\n",
      "\n"
     ]
    }
   ],
   "source": [
    "entps = point_entropy(load[:5, :])"
   ]
  },
  {
   "cell_type": "code",
   "execution_count": 32,
   "id": "cbcfe53a",
   "metadata": {},
   "outputs": [
    {
     "name": "stdout",
     "output_type": "stream",
     "text": [
      "[0.5082993507 0.6213187575 0.4917939901 0.4917939901 0.4917939901]\n"
     ]
    }
   ],
   "source": [
    "print(entps)"
   ]
  },
  {
   "cell_type": "code",
   "execution_count": 26,
   "id": "7bdbd6c5",
   "metadata": {},
   "outputs": [
    {
     "name": "stdout",
     "output_type": "stream",
     "text": [
      "[0.0000576  0.0001564  0.0003178  0.001113   0.1932     0.8047\n",
      " 0.0004632  0.00002354]\n"
     ]
    }
   ],
   "source": [
    "\n",
    "print(load[0])"
   ]
  },
  {
   "cell_type": "code",
   "execution_count": 33,
   "id": "29db3aca",
   "metadata": {},
   "outputs": [
    {
     "name": "stdout",
     "output_type": "stream",
     "text": [
      "[0.7333209526 0.8963734903 0.7095087507 0.7095087507 0.7095087507]\n"
     ]
    }
   ],
   "source": [
    "print(entps/np.log(2))"
   ]
  },
  {
   "cell_type": "code",
   "execution_count": 5,
   "id": "35e7198b",
   "metadata": {},
   "outputs": [
    {
     "name": "stdout",
     "output_type": "stream",
     "text": [
      "[0.8047 0.7075 0.8276 0.8276 0.8276]\n"
     ]
    }
   ],
   "source": []
  },
  {
   "cell_type": "code",
   "execution_count": null,
   "id": "fce119c1",
   "metadata": {},
   "outputs": [],
   "source": []
  }
 ],
 "metadata": {
  "kernelspec": {
   "display_name": "Python 3",
   "language": "python",
   "name": "python3"
  },
  "language_info": {
   "codemirror_mode": {
    "name": "ipython",
    "version": 3
   },
   "file_extension": ".py",
   "mimetype": "text/x-python",
   "name": "python",
   "nbconvert_exporter": "python",
   "pygments_lexer": "ipython3",
   "version": "3.7.10"
  }
 },
 "nbformat": 4,
 "nbformat_minor": 5
}
