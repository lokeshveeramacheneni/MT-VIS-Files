{
 "cells": [
  {
   "cell_type": "code",
   "execution_count": 2,
   "id": "8b6c5bc8",
   "metadata": {},
   "outputs": [],
   "source": [
    "import numpy as np\n",
    "import matplotlib.pyplot as plt\n",
    "import pandas as pd\n",
    "import os, glob\n",
    "from tikzplotlib import save"
   ]
  },
  {
   "cell_type": "code",
   "execution_count": 3,
   "id": "743634ff",
   "metadata": {},
   "outputs": [],
   "source": [
    "values = pd.read_csv('./sem8_labels_training_test/out_metrics.txt')"
   ]
  },
  {
   "cell_type": "code",
   "execution_count": 4,
   "id": "b4a61e6f",
   "metadata": {},
   "outputs": [],
   "source": [
    "t1 = {0: 16104858, 1: 1193736, 2: 3174966, 3: 1028219, 4: 592462, 5: 540129, 6: 1261195, 7: 7040, 8: 92875}\n",
    "t2 = {0: 39891, 1: 10203722, 2: 89891, 3: 295722, 4: 851396, 5: 13411346, 6: 2922490, 7: 96757, 8: 148103}\n",
    "t3 = {0: 16751625, 1: 654141, 2: 4925818, 3: 352618, 4: 172100, 5: 1612232, 6: 46140, 7: 762, 8: 404061}\n",
    "t4 = {0: 59109, 1: 130678359, 2: 318126, 3: 10874297, 4: 80220830, 5: 26847269, 6: 8225521, 7: 1143537, 8: 353899}\n",
    "t5 = {0: 79519, 1: 13663072, 2: 32956, 3: 276317, 4: 1326052, 5: 8755941, 6: 3499737, 7: 86482, 8: 257352}\n",
    "t6 = {0: 8962, 1: 131548170, 2: 162077804, 3: 5239190, 4: 1312812, 5: 11670278, 6: 8996254, 7: 529877, 8: 705214}\n",
    "t7 = {0: 26437004, 1: 3932823, 2:0, 3: 30402, 4: 7685, 5: 4129066, 6: 492534, 7: 88307, 8: 89467}\n",
    "t8 = {0: 32001612, 1: 3192466, 2:0, 3: 7925, 4: 9122, 5: 5370835, 6: 540975, 7: 142402, 8: 2950}\n",
    "t9 = {0: 34965132, 1: 2366713, 2:0, 3: 17979, 4: 109694, 5: 6550346, 6: 894850, 7: 32422, 8: 53504}\n",
    "t10 = {0: 108102, 1: 72499408, 2: 101333260, 3: 13137568, 4: 8203887, 5: 17491443, 6: 4453888, 7: 460632, 8: 583945}\n",
    "t11 = {0: 332, 1: 20277988, 2:0, 3: 241234, 4: 3248, 5: 26405786, 6: 1682876, 7: 1459455, 8: 51544}\n",
    "t12 = {0: 107042, 1: 120144735, 2: 18200003, 3: 70112658, 4: 5638532, 5: 46338820, 6: 19316799, 7: 541965, 8: 594221}\n",
    "t13 = {0: 110769, 1: 175381465, 2: 2766889, 3: 3162992, 4: 831397, 5: 26345183, 6: 5931300, 7: 194344, 8: 8184572}"
   ]
  },
  {
   "cell_type": "code",
   "execution_count": 5,
   "id": "f6f11b9b",
   "metadata": {},
   "outputs": [],
   "source": [
    "v1 = {0: 20221294, 1: 1294930, 2: 3508530, 3: 2538281, 4: 49687, 5: 1242205, 6: 763114, 7: 13899, 8: 65650}\n",
    "v2 = {0: 9051195, 1: 109459508, 2: 184550983, 3: 28319406, 4: 642600, 5: 89036106, 6: 24439102, 7: 47182042, 8: 4021918}"
   ]
  },
  {
   "cell_type": "code",
   "execution_count": 6,
   "id": "31740bab",
   "metadata": {},
   "outputs": [],
   "source": [
    "t = [t1, t2, t3, t4, t5, t6, t7, t8, t9, t10, t11, t12, t13]\n",
    "v = [v1, v2]"
   ]
  },
  {
   "cell_type": "code",
   "execution_count": 7,
   "id": "fb1a53ab",
   "metadata": {},
   "outputs": [],
   "source": [
    "train_pnts = []\n",
    "for key in range(1, 9):\n",
    "    sum_ = 0\n",
    "    for t_ in t:\n",
    "        sum_ += t_[key]\n",
    "    train_pnts.append(sum_)\n",
    "val_pnts = []\n",
    "for key in range(1, 9):\n",
    "    sum_ = 0\n",
    "    for t_ in v:\n",
    "        sum_ += t_[key]\n",
    "    val_pnts.append(sum_)"
   ]
  },
  {
   "cell_type": "code",
   "execution_count": 8,
   "id": "0b284752",
   "metadata": {},
   "outputs": [
    {
     "name": "stdout",
     "output_type": "stream",
     "text": [
      "[685736798, 292919713, 104777121, 99279217, 195468674, 58264559, 4783982, 11521707]\n"
     ]
    }
   ],
   "source": [
    "print(train_pnts)\n",
    "xlbl = ['manmade terrain', 'natural terrain', 'high vegetation', 'low vegetation', 'buildings', \n",
    "        'hardscapes', 'scanning artifacts', 'cars']"
   ]
  },
  {
   "cell_type": "code",
   "execution_count": 17,
   "id": "a2372268",
   "metadata": {},
   "outputs": [
    {
     "data": {
      "image/png": "[encoded data removed]",
      "text/plain": [
       "<Figure size 360x360 with 1 Axes>"
      ]
     },
     "metadata": {
      "needs_background": "light"
     },
     "output_type": "display_data"
    }
   ],
   "source": [
    "plt.figure(figsize=(5,5))\n",
    "plt.bar(np.arange(0, 8),np.add(train_pnts, val_pnts)/1e6, width=0.5)\n",
    "#plt.bar(np.arange(1, 9),val_pnts, label='#test points', lw=0)\n",
    "#plt.yscale('log')\n",
    "plt.xticks(range(0, 8), xlbl, rotation=90)\n",
    "plt.xlabel('Classes')\n",
    "plt.ylabel('Number of points (millions)')\n",
    "#plt.yticks([0, 100, 200, 300, 400, 500, 600, 700, 800])\n",
    "\n",
    "plt.yticks([10, 100, 1000])\n",
    "plt.yscale('log')\n",
    "plt.grid()\n",
    "#save('Sem3d_points.tex')\n",
    "plt.savefig('distribution.png', bbox_inches='tight')\n",
    "plt.show()"
   ]
  },
  {
   "cell_type": "code",
   "execution_count": null,
   "id": "65f3003d",
   "metadata": {},
   "outputs": [],
   "source": []
  },
  {
   "cell_type": "code",
   "execution_count": null,
   "id": "55d997e2",
   "metadata": {},
   "outputs": [],
   "source": []
  }
 ],
 "metadata": {
  "kernelspec": {
   "display_name": "Python 3",
   "language": "python",
   "name": "python3"
  },
  "language_info": {
   "codemirror_mode": {
    "name": "ipython",
    "version": 3
   },
   "file_extension": ".py",
   "mimetype": "text/x-python",
   "name": "python",
   "nbconvert_exporter": "python",
   "pygments_lexer": "ipython3",
   "version": "3.7.10"
  }
 },
 "nbformat": 4,
 "nbformat_minor": 5
}
